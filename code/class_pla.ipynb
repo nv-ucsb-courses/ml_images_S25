{
  "metadata": {
    "kernelspec": {
      "name": "python",
      "display_name": "Python (Pyodide)",
      "language": "python"
    },
    "language_info": {
      "codemirror_mode": {
        "name": "python",
        "version": 3
      },
      "file_extension": ".py",
      "mimetype": "text/x-python",
      "name": "python",
      "nbconvert_exporter": "python",
      "pygments_lexer": "ipython3",
      "version": "3.8"
    }
  },
  "nbformat_minor": 5,
  "nbformat": 4,
  "cells": [
    {
      "id": "fa42eff7-e428-4e36-a5bd-08e099966daa",
      "cell_type": "markdown",
      "source": "### Perceptron Learning Algorithm (PLA)",
      "metadata": {}
    },
    {
      "id": "d493dc99-c473-4348-9c50-a8975ec7e180",
      "cell_type": "code",
      "source": "import numpy as np\n\n# define activation functions\ndef step(x): return (1 if x > 0 else 0)\ndef sigmoid(x): return 1/(1+np.exp(-x))",
      "metadata": {
        "trusted": true
      },
      "outputs": [],
      "execution_count": 1
    },
    {
      "id": "e138ce4b-5649-41f9-962e-396c1166dfc0",
      "cell_type": "code",
      "source": "# define general neural network node (bias in w[0] -> x[0] = 1)\ndef nn_node(x,w,act_fn=step): return act_fn(np.dot(x,w))",
      "metadata": {
        "trusted": true
      },
      "outputs": [],
      "execution_count": 2
    },
    {
      "id": "82439df4-e1f3-4138-b851-324ab0cfcb6a",
      "cell_type": "code",
      "source": "# perceptron learning implementation\ndef pla(X,labels, act_fn=step,lr=0.1,epochs=10000,tol=0.01):\n    \n    # initialize weights + bias\n    w = np.zeros(len(X[0])+1)\n\n    # loop over epochs\n    for i in range(epochs):\n        xerr = 0\n        # loop over training data and labels\n        for x, actual in zip(X,labels):\n            xb = np.insert(x,0,1) \n            pred = nn_node(xb,w,act_fn)\n            w += lr * (actual-pred) * xb \n            xerr += abs(actual-pred)\n\n        # termination condition\n        if xerr < tol:\n            print (\"converged after epoch \",i)\n            return w\n    print (\"used up all epochs\")\n    return w",
      "metadata": {
        "trusted": true
      },
      "outputs": [],
      "execution_count": 3
    },
    {
      "id": "dba3e0e1-7c7b-4a34-b1e6-94729c8b1d4f",
      "cell_type": "markdown",
      "source": "### Define training data and desired outcomes",
      "metadata": {}
    },
    {
      "id": "60877e98-4bad-4ea3-b97b-dc9510e685e7",
      "cell_type": "code",
      "source": "inputs=[[0,0],[1,0],[0,1],[1,1]]\nactual=[0,0,0,1]",
      "metadata": {
        "trusted": true
      },
      "outputs": [],
      "execution_count": 4
    },
    {
      "id": "c1c698bf-3157-4a64-b6b3-80a7cba25bd9",
      "cell_type": "markdown",
      "source": "### Run PLA learning",
      "metadata": {}
    },
    {
      "id": "41dbbf44-828c-47cb-935b-b84eb56f4cc1",
      "cell_type": "code",
      "source": "# define function here for reuse in test\nfunc=step\n\n# learn\nlearned=pla(inputs,actual,act_fn=func,epochs=100000,lr=0.1)",
      "metadata": {
        "trusted": true
      },
      "outputs": [
        {
          "name": "stdout",
          "output_type": "stream",
          "text": "converged after epoch  5\n"
        }
      ],
      "execution_count": 15
    },
    {
      "id": "eebed967-4ccd-494a-955f-c539b2cdaf7a",
      "cell_type": "markdown",
      "source": "### Test",
      "metadata": {}
    },
    {
      "id": "f7b205ed-dcf0-427b-8808-df3bf4fd9ab0",
      "cell_type": "code",
      "source": "for data in inputs: \n    \n    # add bias term\n    x = np.insert(data,0,1)\n    \n    # run with learned weights and print results\n    print(x[1:],nn_node(x,learned,func))",
      "metadata": {
        "trusted": true
      },
      "outputs": [
        {
          "name": "stdout",
          "output_type": "stream",
          "text": "[0 0] 0\n[1 0] 0\n[0 1] 0\n[1 1] 1\n"
        }
      ],
      "execution_count": 16
    },
    {
      "id": "ba8a3019-e08b-42d3-b0b4-c50b23cc3a28",
      "cell_type": "code",
      "source": "",
      "metadata": {
        "trusted": true
      },
      "outputs": [],
      "execution_count": null
    }
  ]
}