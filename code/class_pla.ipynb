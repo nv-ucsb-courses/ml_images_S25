{
 "cells": [
  {
   "cell_type": "markdown",
   "id": "fa42eff7-e428-4e36-a5bd-08e099966daa",
   "metadata": {},
   "source": [
    "### Updates from interactive class version\n",
    "- general clean up and bug fixes\n",
    "- added stopping criterion (via xerr)\n",
    "- added feedback for convergence (print statements)\n",
    "- added test run"
   ]
  },
  {
   "cell_type": "code",
   "execution_count": 21,
   "id": "d493dc99-c473-4348-9c50-a8975ec7e180",
   "metadata": {},
   "outputs": [],
   "source": [
    "import numpy as np\n",
    "\n",
    "# define activation functions\n",
    "def step(x): return (1 if x > 0 else 0)\n",
    "def sigmoid(x): return 1/(1+np.exp(-x))"
   ]
  },
  {
   "cell_type": "code",
   "execution_count": 22,
   "id": "e138ce4b-5649-41f9-962e-396c1166dfc0",
   "metadata": {},
   "outputs": [],
   "source": [
    "# define general neural network node (bias in w[0] -> x[0] = 1)\n",
    "def nn_node(x,w,act_fn=step): return act_fn(np.dot(x,w))"
   ]
  },
  {
   "cell_type": "code",
   "execution_count": 23,
   "id": "82439df4-e1f3-4138-b851-324ab0cfcb6a",
   "metadata": {},
   "outputs": [],
   "source": [
    "# perceptron learning implementation\n",
    "def pla(X,labels, act_fn=step,lr=0.1,epochs=10000,tol=0.01):\n",
    "    \n",
    "    # initialize weights + bias\n",
    "    w = np.zeros(len(X[0])+1)\n",
    "\n",
    "    # loop over epochs\n",
    "    for i in range(epochs):\n",
    "        xerr = 0\n",
    "        # loop over training data and labels\n",
    "        for x, actual in zip(X,labels):\n",
    "            xb = np.insert(x,0,1) \n",
    "            pred = nn_node(xb,w,act_fn)\n",
    "            w += lr * (actual-pred) * xb \n",
    "            xerr += abs(actual-pred)\n",
    "\n",
    "        # termination condition\n",
    "        if xerr < tol:\n",
    "            print (\"converged after epoch \",i)\n",
    "            return w\n",
    "    print (\"used up all epochs\")\n",
    "    return w"
   ]
  },
  {
   "cell_type": "markdown",
   "id": "dba3e0e1-7c7b-4a34-b1e6-94729c8b1d4f",
   "metadata": {},
   "source": [
    "### Define training data and desired outcomes"
   ]
  },
  {
   "cell_type": "code",
   "execution_count": 24,
   "id": "60877e98-4bad-4ea3-b97b-dc9510e685e7",
   "metadata": {},
   "outputs": [],
   "source": [
    "inputs=[[0,0],[1,0],[0,1],[1,1]]\n",
    "actual=[0,0,0,1]"
   ]
  },
  {
   "cell_type": "markdown",
   "id": "c1c698bf-3157-4a64-b6b3-80a7cba25bd9",
   "metadata": {},
   "source": [
    "### Run PLA learning"
   ]
  },
  {
   "cell_type": "code",
   "execution_count": 25,
   "id": "41dbbf44-828c-47cb-935b-b84eb56f4cc1",
   "metadata": {},
   "outputs": [
    {
     "name": "stdout",
     "output_type": "stream",
     "text": [
      "converged after epoch  5\n"
     ]
    }
   ],
   "source": [
    "# define function here for reuse in test\n",
    "func=step\n",
    "\n",
    "# learn\n",
    "learned=pla(inputs,actual,act_fn=func,epochs=100000,lr=0.1)"
   ]
  },
  {
   "cell_type": "markdown",
   "id": "eebed967-4ccd-494a-955f-c539b2cdaf7a",
   "metadata": {},
   "source": [
    "### Test"
   ]
  },
  {
   "cell_type": "code",
   "execution_count": 26,
   "id": "f7b205ed-dcf0-427b-8808-df3bf4fd9ab0",
   "metadata": {},
   "outputs": [
    {
     "name": "stdout",
     "output_type": "stream",
     "text": [
      "[0 0] 0\n",
      "[1 0] 0\n",
      "[0 1] 0\n",
      "[1 1] 1\n"
     ]
    }
   ],
   "source": [
    "for data in inputs: \n",
    "    \n",
    "    # add bias term\n",
    "    x = np.insert(data,0,1)\n",
    "    \n",
    "    # run with learned weights and print results\n",
    "    print(x[1:],nn_node(x,learned,func))"
   ]
  }
 ],
 "metadata": {
  "kernelspec": {
   "display_name": "Python 3 (ipykernel)",
   "language": "python",
   "name": "python3"
  },
  "language_info": {
   "codemirror_mode": {
    "name": "ipython",
    "version": 3
   },
   "file_extension": ".py",
   "mimetype": "text/x-python",
   "name": "python",
   "nbconvert_exporter": "python",
   "pygments_lexer": "ipython3",
   "version": "3.11.7"
  }
 },
 "nbformat": 4,
 "nbformat_minor": 5
}
