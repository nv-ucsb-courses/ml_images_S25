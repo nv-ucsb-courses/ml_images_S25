{
  "metadata": {
    "kernelspec": {
      "name": "python",
      "display_name": "Python (Pyodide)",
      "language": "python"
    },
    "language_info": {
      "codemirror_mode": {
        "name": "python",
        "version": 3
      },
      "file_extension": ".py",
      "mimetype": "text/x-python",
      "name": "python",
      "nbconvert_exporter": "python",
      "pygments_lexer": "ipython3",
      "version": "3.8"
    }
  },
  "nbformat_minor": 5,
  "nbformat": 4,
  "cells": [
    {
      "id": "e1a9f623-38eb-4ac1-a090-6c13ae5c3a1f",
      "cell_type": "markdown",
      "source": "### Simple MP-neuron ",
      "metadata": {}
    },
    {
      "id": "2b35840d-6860-4c35-8e77-64446d04d77f",
      "cell_type": "code",
      "source": "def mp_simple(x,threshold=0):\n    sumx = 0\n    for runx in range(len(x)):\n        sumx += x[runx]\n    if sumx < threshold:\n        return 0\n    else:\n        return 1",
      "metadata": {
        "trusted": true
      },
      "outputs": [],
      "execution_count": 2
    },
    {
      "id": "b313685c-780c-4ad6-aedc-e34be9741ac3",
      "cell_type": "markdown",
      "source": "##### Test AND and OR gates ",
      "metadata": {}
    },
    {
      "id": "f9885625-7408-4ab2-afee-adab1b5ce7e0",
      "cell_type": "code",
      "source": "print(mp_simple([0,0],2),mp_simple([0,1],2),mp_simple([1,0],2),mp_simple([1,1],2))",
      "metadata": {
        "trusted": true
      },
      "outputs": [
        {
          "name": "stdout",
          "output_type": "stream",
          "text": "0 0 0 1\n"
        }
      ],
      "execution_count": 6
    },
    {
      "id": "88952487-8c4a-41ab-a1ad-aa5bb5eddeb5",
      "cell_type": "code",
      "source": "print(mp_simple([0,0],1),mp_simple([0,1],1),mp_simple([1,0],1),mp_simple([1,1],1))",
      "metadata": {
        "trusted": true
      },
      "outputs": [
        {
          "name": "stdout",
          "output_type": "stream",
          "text": "0 1 1 1\n"
        }
      ],
      "execution_count": 7
    },
    {
      "id": "7820d20a-3ae9-415e-9501-ea2cb09ab75f",
      "cell_type": "markdown",
      "source": "### Simple Perceptron code",
      "metadata": {}
    },
    {
      "id": "d9470711-3042-4950-a7d8-5e48eec816d7",
      "cell_type": "code",
      "source": "# include bias as w[0] -> x[0] must be 1\ndef perceptron_simple(x,w):\n    sumxw = 0\n    for i in range(len(x)):\n        sumxw += x[i]*w[i]\n    if sumxw < 0:\n        return 0\n    else:\n        return 1",
      "metadata": {
        "trusted": true
      },
      "outputs": [],
      "execution_count": 9
    },
    {
      "id": "93ed9475-f1d2-42cc-907a-c8c61d7c4b45",
      "cell_type": "code",
      "source": "# alternate version, give bias explicitly\ndef perceptron_simple_alt(x,w,b):\n    sumxw = b\n    for i in range(len(x)):\n        sumxw += x[i]*w[i]\n    if sumxw < 0:\n        return 0\n    else:\n        return 1",
      "metadata": {
        "trusted": true
      },
      "outputs": [],
      "execution_count": 10
    },
    {
      "id": "0853f948-3002-460c-a7b1-334969bd440c",
      "cell_type": "markdown",
      "source": "### Perceptron with Numpy vector processing",
      "metadata": {}
    },
    {
      "id": "54536dec-ff6f-466a-85fe-848d58c6325a",
      "cell_type": "code",
      "source": "# need to import numpy first\nimport numpy as np\n\n# use dot product instead of weighted sum\ndef perceptron_np(x,w):\n    if  np.dot(x,w) < 0:\n        return 0\n    else:\n        return 1\n\n# or as one-liner\ndef perceptron_np(x,w): return (0 if np.dot(x,w) < 0 else 1)\n",
      "metadata": {
        "trusted": true
      },
      "outputs": [],
      "execution_count": 11
    },
    {
      "id": "f039f3dd-7032-41d8-aefe-5f5dedb94649",
      "cell_type": "markdown",
      "source": "##### Test as AND and OR gates",
      "metadata": {}
    },
    {
      "id": "e7210e84-58b7-4e93-ae04-c7ef3b6d145d",
      "cell_type": "code",
      "source": "# set all weights to 1 (-> MP) and bias to -2 (i.e MP threshold 2)\nw=[-2,1,1]\n\n# add 1 for x[0] for bias term\nprint (perceptron_np([1,0,0],w),\n       perceptron_np([1,1,0],w),\n       perceptron_np([1,0,1],w),\n       perceptron_np([1,1,1],w))\n       ",
      "metadata": {
        "trusted": true
      },
      "outputs": [
        {
          "name": "stdout",
          "output_type": "stream",
          "text": "0 0 0 1\n"
        }
      ],
      "execution_count": 12
    },
    {
      "id": "c76e02b3-9d0e-4671-942e-f660e1fc0892",
      "cell_type": "code",
      "source": "# now OR gate\nw=[-1,1,1]\nprint (perceptron_np([1,0,0],w),\n       perceptron_np([1,1,0],w),\n       perceptron_np([1,0,1],w),\n       perceptron_np([1,1,1],w))",
      "metadata": {
        "trusted": true
      },
      "outputs": [
        {
          "name": "stdout",
          "output_type": "stream",
          "text": "0 1 1 1\n"
        }
      ],
      "execution_count": 13
    },
    {
      "id": "52719b9a-8f76-44e5-a26e-bc90eba1f494",
      "cell_type": "code",
      "source": "",
      "metadata": {
        "trusted": true
      },
      "outputs": [],
      "execution_count": null
    }
  ]
}